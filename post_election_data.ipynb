{
 "cells": [
  {
   "cell_type": "code",
   "execution_count": 1,
   "metadata": {},
   "outputs": [],
   "source": [
    "import requests\n",
    "from bs4 import BeautifulSoup\n",
    "import pandas as pd\n",
    "import numpy as np\n",
    "import re"
   ]
  },
  {
   "cell_type": "markdown",
   "metadata": {},
   "source": [
    "# 0. Load data"
   ]
  },
  {
   "cell_type": "code",
   "execution_count": 37,
   "metadata": {},
   "outputs": [],
   "source": [
    "candidates_df = pd.read_pickle(\"data/candidates_df.p\")\n",
    "tweets_df = pd.read_pickle(\"data/tweets_df.p\")"
   ]
  },
  {
   "cell_type": "markdown",
   "metadata": {},
   "source": [
    "# 1. Scrape `go2senkyo.com` for candidate information"
   ]
  },
  {
   "cell_type": "markdown",
   "metadata": {},
   "source": [
    "## 1.1. Assembly election candidates"
   ]
  },
  {
   "cell_type": "code",
   "execution_count": 3,
   "metadata": {},
   "outputs": [],
   "source": [
    "a_url = \"https://go2senkyo.com/local/senkyo/21754\"\n",
    "a_response = requests.get(a_url)\n",
    "a_soup = BeautifulSoup(a_response.content, \"html.parser\")"
   ]
  },
  {
   "cell_type": "code",
   "execution_count": 45,
   "metadata": {},
   "outputs": [],
   "source": [
    "a_vote_count = []\n",
    "for candidate in a_soup.find_all(\"h2\", class_=\"m_senkyo_result_data_ttl\"):\n",
    "    dict = {}\n",
    "    katakana = candidate.find(\"a\").find(\"span\").text\n",
    "    dict['name'] = candidate.find(\"a\").text.strip(\"\\n\").strip(\"\\t\").replace(katakana, \"\")\n",
    "    a_vote_count.append(dict)"
   ]
  },
  {
   "cell_type": "code",
   "execution_count": 54,
   "metadata": {},
   "outputs": [],
   "source": [
    "candidate_num = 0\n",
    "for vote_num in a_soup.find_all(\"td\", class_=\"right\"):\n",
    "    vote_num_clean = re.findall(\"([0-9,.]+)\\s票\", vote_num.text)[0].replace(\",\", \"\")\n",
    "    a_vote_count[candidate_num]['vote_count'] = vote_num_clean\n",
    "    candidate_num += 1"
   ]
  },
  {
   "cell_type": "code",
   "execution_count": 55,
   "metadata": {},
   "outputs": [],
   "source": [
    "for candidate in a_vote_count:\n",
    "    row = candidates_df[candidates_df.name == candidate['name']]\n",
    "    candidates_df.loc[row.index, \"vote_count\"] = candidate['vote_count']"
   ]
  },
  {
   "attachments": {},
   "cell_type": "markdown",
   "metadata": {},
   "source": [
    "## 1.2. Mayor election candidates"
   ]
  },
  {
   "cell_type": "code",
   "execution_count": 58,
   "metadata": {},
   "outputs": [],
   "source": [
    "m_url = \"https://go2senkyo.com/local/senkyo/21753\"\n",
    "m_response = requests.get(m_url)\n",
    "m_soup = BeautifulSoup(m_response.content, \"html.parser\")"
   ]
  },
  {
   "cell_type": "code",
   "execution_count": 59,
   "metadata": {},
   "outputs": [],
   "source": [
    "m_vote_count = []\n",
    "for candidate in m_soup.find_all(\"h2\", class_=\"m_senkyo_result_data_ttl\"):\n",
    "    dict = {}\n",
    "    katakana = candidate.find(\"a\").find(\"span\").text\n",
    "    dict['name'] = candidate.find(\"a\").text.strip(\"\\n\").strip(\"\\t\").replace(katakana, \"\")\n",
    "    m_vote_count.append(dict)"
   ]
  },
  {
   "cell_type": "code",
   "execution_count": 60,
   "metadata": {},
   "outputs": [],
   "source": [
    "candidate_num = 0\n",
    "for vote_num in m_soup.find_all(\"td\", class_=\"right\"):\n",
    "    vote_num_clean = re.findall(\"([0-9,.]+)\\s票\", vote_num.text)[0].replace(\",\", \"\")\n",
    "    m_vote_count[candidate_num]['vote_count'] = vote_num_clean\n",
    "    candidate_num += 1"
   ]
  },
  {
   "cell_type": "code",
   "execution_count": 61,
   "metadata": {},
   "outputs": [],
   "source": [
    "for candidate in m_vote_count:\n",
    "    row = candidates_df[candidates_df.name == candidate['name']]\n",
    "    candidates_df.loc[row.index, \"vote_count\"] = candidate['vote_count']"
   ]
  },
  {
   "cell_type": "code",
   "execution_count": 64,
   "metadata": {},
   "outputs": [],
   "source": [
    "candidates_df.vote_count = candidates_df.vote_count.astype('float')"
   ]
  },
  {
   "cell_type": "markdown",
   "metadata": {},
   "source": [
    "## 1.3. Create results column"
   ]
  },
  {
   "cell_type": "code",
   "execution_count": 69,
   "metadata": {},
   "outputs": [],
   "source": [
    "results = np.where(\n",
    "    (candidates_df.category == \"A\") & (candidates_df.vote_count >= 3006),\n",
    "    1,\n",
    "    np.where(\n",
    "        (candidates_df.category == \"M\") & (candidates_df.vote_count == candidates_df[candidates_df.category == \"M\"].vote_count.max()),\n",
    "        1,\n",
    "        0\n",
    "    ))"
   ]
  },
  {
   "cell_type": "code",
   "execution_count": 71,
   "metadata": {},
   "outputs": [],
   "source": [
    "candidates_df['results'] = results"
   ]
  },
  {
   "cell_type": "code",
   "execution_count": 72,
   "metadata": {},
   "outputs": [],
   "source": [
    "candidates_df.to_pickle(\"data/candidates_df.p\")"
   ]
  }
 ],
 "metadata": {
  "kernelspec": {
   "display_name": "edogawa_2023",
   "language": "python",
   "name": "python3"
  },
  "language_info": {
   "codemirror_mode": {
    "name": "ipython",
    "version": 3
   },
   "file_extension": ".py",
   "mimetype": "text/x-python",
   "name": "python",
   "nbconvert_exporter": "python",
   "pygments_lexer": "ipython3",
   "version": "3.8.12"
  },
  "orig_nbformat": 4
 },
 "nbformat": 4,
 "nbformat_minor": 2
}
